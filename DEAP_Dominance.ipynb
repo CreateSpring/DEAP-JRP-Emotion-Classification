{
 "cells": [
  {
   "cell_type": "markdown",
   "metadata": {},
   "source": [
    "# Load X values"
   ]
  },
  {
   "cell_type": "code",
   "execution_count": 1,
   "metadata": {},
   "outputs": [
    {
     "name": "stdout",
     "output_type": "stream",
     "text": [
      "32\n"
     ]
    }
   ],
   "source": [
    "import os\n",
    "dir = [x[0] for x in os.walk('/Users/apple/Desktop/eeglab14_1_2b/participant')]\n",
    "dir.sort()\n",
    "dir.reverse()\n",
    "dir.pop()\n",
    "dir.reverse()\n",
    "print(len(dir))"
   ]
  },
  {
   "cell_type": "code",
   "execution_count": 2,
   "metadata": {},
   "outputs": [
    {
     "name": "stdout",
     "output_type": "stream",
     "text": [
      "32\n"
     ]
    }
   ],
   "source": [
    "import glob\n",
    "filenames = []\n",
    "for x in dir:\n",
    "    temp = glob.glob(x + \"/*.png\")\n",
    "    temp.sort()\n",
    "    filenames.append(temp)\n",
    "print(len(filenames))"
   ]
  },
  {
   "cell_type": "code",
   "execution_count": 3,
   "metadata": {},
   "outputs": [
    {
     "name": "stdout",
     "output_type": "stream",
     "text": [
      "1280\n",
      "(32, 32, 4)\n"
     ]
    }
   ],
   "source": [
    "from matplotlib import image\n",
    "from matplotlib import pyplot\n",
    "import numpy as np\n",
    "from PIL import Image\n",
    "X = []\n",
    "for i in range(len(filenames)):\n",
    "    for j in range(int(len(filenames[i]) / 2)):\n",
    "        #print(len(filenames[i]))\n",
    "        #print(j)\n",
    "        data = Image.open(filenames[i].pop())\n",
    "        arr = np.array(data)\n",
    "        result = np.zeros((32,32))\n",
    "        toadd = np.zeros((32,32,4))\n",
    "        for k in range(arr.shape[2]):\n",
    "            result[:arr[:,:,k].shape[0],:arr[:,:,k].shape[1]] = arr[:,:,k] \n",
    "            toadd[:,:,k] = result\n",
    "        #print(data.shape)\n",
    "        X.append(toadd)\n",
    "print(len(X))\n",
    "print(X[1].shape)"
   ]
  },
  {
   "cell_type": "markdown",
   "metadata": {},
   "source": [
    "# Load Y"
   ]
  },
  {
   "cell_type": "code",
   "execution_count": 4,
   "metadata": {},
   "outputs": [
    {
     "name": "stdout",
     "output_type": "stream",
     "text": [
      "1280\n"
     ]
    }
   ],
   "source": [
    "import pandas as pd\n",
    "df = pd.read_csv('/Users/apple/Desktop/eeglab14_1_2b/participant_ratings.csv',\n",
    "                sep=r'\\s*,\\s*',engine = 'python', na_values = '?')\n",
    "df.dropna()\n",
    "Y_chart = pd.get_dummies(df, drop_first=True)\n",
    "Y = Y_chart['Dominance'].tolist()\n",
    "print(len(Y))\n",
    "#print(Y)"
   ]
  },
  {
   "cell_type": "code",
   "execution_count": 5,
   "metadata": {},
   "outputs": [
    {
     "name": "stdout",
     "output_type": "stream",
     "text": [
      "1280\n"
     ]
    }
   ],
   "source": [
    "for i in range(len(Y)):\n",
    "    if Y[i] < 5:\n",
    "        Y[i] = 0\n",
    "    else:\n",
    "        Y[i] = 1\n",
    "print(len(Y))"
   ]
  },
  {
   "cell_type": "markdown",
   "metadata": {},
   "source": [
    "# Training and Testing"
   ]
  },
  {
   "cell_type": "code",
   "execution_count": 6,
   "metadata": {},
   "outputs": [
    {
     "name": "stdout",
     "output_type": "stream",
     "text": [
      "1280\n"
     ]
    }
   ],
   "source": [
    "from random import shuffle\n",
    "XY = []\n",
    "for i in range(len(X)):\n",
    "    XY.append((X[i], Y[i]))\n",
    "shuffle(XY)\n",
    "print(len(XY))"
   ]
  },
  {
   "cell_type": "code",
   "execution_count": 7,
   "metadata": {},
   "outputs": [],
   "source": [
    "X = [x[0] for x in XY]\n",
    "Y = [x[1] for x in XY]"
   ]
  },
  {
   "cell_type": "code",
   "execution_count": 8,
   "metadata": {},
   "outputs": [
    {
     "name": "stdout",
     "output_type": "stream",
     "text": [
      "(1280, 32, 32, 4)\n",
      "(1280,)\n"
     ]
    }
   ],
   "source": [
    "import numpy as np\n",
    "Xarray = np.asarray(X)\n",
    "Yarray = np.asarray(Y)\n",
    "print(Xarray.shape)\n",
    "print(Yarray.shape)"
   ]
  },
  {
   "cell_type": "code",
   "execution_count": 9,
   "metadata": {},
   "outputs": [
    {
     "name": "stdout",
     "output_type": "stream",
     "text": [
      "(1240, 32, 32, 4)\n",
      "(1240,)\n",
      "(40, 32, 32, 4)\n",
      "(40,)\n"
     ]
    }
   ],
   "source": [
    "X_train = Xarray[:1240,:,:,:]\n",
    "Y_train = Yarray[:1240]\n",
    "print(X_train.shape)\n",
    "print(Y_train.shape)\n",
    "X_test = Xarray[1240:,:,:]\n",
    "Y_test = Yarray[1240:]\n",
    "print(X_test.shape)\n",
    "print(Y_test.shape)"
   ]
  },
  {
   "cell_type": "code",
   "execution_count": 10,
   "metadata": {},
   "outputs": [
    {
     "name": "stdout",
     "output_type": "stream",
     "text": [
      "Image dataset have shape = (1240, 32, 32, 4)\n",
      "Image dataset has min/mean/std/max = 1.00/142.07/78.38/255.00\n",
      "\n",
      "Train label has shape = (1240,)\n",
      "Training label has min/mean/std/max = 0.00/0.62/0.49/1.00\n"
     ]
    }
   ],
   "source": [
    "print('Image dataset have shape =', X_train.shape)\n",
    "print('Image dataset has min/mean/std/max = %.2f/%.2f/%.2f/%.2f'%(X_train.min(),\n",
    "                        X_train.mean(), X_train.std(), X_train.max()))\n",
    "print('')\n",
    "print('Train label has shape =', Y_train.shape)\n",
    "print('Training label has min/mean/std/max = %.2f/%.2f/%.2f/%.2f'%(Y_train.min(),\n",
    "                        Y_train.mean(), Y_train.std(), Y_train.max()))"
   ]
  },
  {
   "cell_type": "code",
   "execution_count": 11,
   "metadata": {},
   "outputs": [
    {
     "name": "stdout",
     "output_type": "stream",
     "text": [
      "Image dataset have shape = (1240, 32, 32, 4)\n",
      "Image dataset has min/mean/std/max = 0.00/0.56/0.31/1.00\n",
      "\n",
      "Train label has shape = (1240,)\n",
      "Training label has min/mean/std/max = 0.00/0.62/0.49/1.00\n"
     ]
    }
   ],
   "source": [
    "def normalize_data(data): \n",
    "    data = data / data.max()\n",
    "    return data\n",
    "\n",
    "X_train = normalize_data(X_train)\n",
    "X_test = normalize_data(X_test)\n",
    "print('Image dataset have shape =', X_train.shape)\n",
    "print('Image dataset has min/mean/std/max = %.2f/%.2f/%.2f/%.2f'%(X_train.min(),\n",
    "                        X_train.mean(), X_train.std(), X_train.max()))\n",
    "print('')\n",
    "print('Train label has shape =', Y_train.shape)\n",
    "print('Training label has min/mean/std/max = %.2f/%.2f/%.2f/%.2f'%(Y_train.min(),\n",
    "                        Y_train.mean(), Y_train.std(), Y_train.max()))"
   ]
  },
  {
   "cell_type": "markdown",
   "metadata": {},
   "source": [
    "# Visualization"
   ]
  },
  {
   "cell_type": "code",
   "execution_count": 12,
   "metadata": {},
   "outputs": [
    {
     "name": "stdout",
     "output_type": "stream",
     "text": [
      "1240\n",
      "(1240, 32, 32)\n",
      "40\n",
      "(40, 32, 32, 3)\n",
      "(1240, 32, 32, 3)\n"
     ]
    }
   ],
   "source": [
    "print(len(Y_train))\n",
    "X_train_0 = X_train[:,:,:,0]\n",
    "X_train_1 = X_train[:,:,:,1]\n",
    "X_train_2 = X_train[:,:,:,2]\n",
    "X_train_3 = X_train[:,:,:,3]\n",
    "X_train = X_train[:,:,:,0:3]\n",
    "X_test = X_test[:,:,:,0:3]\n",
    "print(X_train_0.shape)\n",
    "print(len(Y_test))\n",
    "print(X_test.shape)\n",
    "print(X_train.shape)"
   ]
  },
  {
   "cell_type": "code",
   "execution_count": 13,
   "metadata": {},
   "outputs": [
    {
     "data": {
      "image/png": "[encoded data removed]",
      "text/plain": [
       "<Figure size 504x504 with 10 Axes>"
      ]
     },
     "metadata": {},
     "output_type": "display_data"
    }
   ],
   "source": [
    "%matplotlib inline\n",
    "import matplotlib.pyplot as plt\n",
    "import numpy as np\n",
    "class_names = ['Positive', 'Negative']\n",
    "plt.figure(figsize=(7,7))\n",
    "for i in range(10):\n",
    "    plt.subplot(4,5,i+1)\n",
    "    plt.xticks([])\n",
    "    plt.yticks([])\n",
    "    plt.grid(False)\n",
    "    plt.imshow(X_train_0[i], cmap=plt.cm.binary)\n",
    "    plt.xlabel(class_names[Y_train[i]])\n",
    "plt.show()"
   ]
  },
  {
   "cell_type": "code",
   "execution_count": 14,
   "metadata": {},
   "outputs": [
    {
     "data": {
      "image/png": "[encoded data removed]",
      "text/plain": [
       "<Figure size 504x504 with 10 Axes>"
      ]
     },
     "metadata": {},
     "output_type": "display_data"
    }
   ],
   "source": [
    "plt.figure(figsize=(7,7))\n",
    "for i in range(10):\n",
    "    plt.subplot(4,5,i+1)\n",
    "    plt.xticks([])\n",
    "    plt.yticks([])\n",
    "    plt.grid(False)\n",
    "    plt.imshow(X_train_1[i], cmap=plt.cm.binary)\n",
    "    plt.xlabel(class_names[Y_train[i]])\n",
    "plt.show()"
   ]
  },
  {
   "cell_type": "code",
   "execution_count": 15,
   "metadata": {},
   "outputs": [
    {
     "data": {
      "image/png": "[encoded data removed]",
      "text/plain": [
       "<Figure size 504x504 with 10 Axes>"
      ]
     },
     "metadata": {},
     "output_type": "display_data"
    }
   ],
   "source": [
    "plt.figure(figsize=(7,7))\n",
    "for i in range(10):\n",
    "    plt.subplot(4,5,i+1)\n",
    "    plt.xticks([])\n",
    "    plt.yticks([])\n",
    "    plt.grid(False)\n",
    "    plt.imshow(X_train_2[i], cmap=plt.cm.binary)\n",
    "    plt.xlabel(class_names[Y_train[i]])\n",
    "plt.show()"
   ]
  },
  {
   "cell_type": "code",
   "execution_count": 16,
   "metadata": {},
   "outputs": [],
   "source": [
    "import torch\n",
    "import torchvision\n",
    "import torchvision.transforms as transforms\n",
    "import torch.nn as nn\n",
    "import torch.nn.functional as F\n",
    "import torch.optim as optim\n",
    "import torch.utils.data as utils"
   ]
  },
  {
   "cell_type": "code",
   "execution_count": 17,
   "metadata": {},
   "outputs": [],
   "source": [
    "transform = transforms.Compose(\n",
    " [transforms.ToTensor(),\n",
    " transforms.Normalize((0.5, 0.5, 0.5), (0.5, 0.5, 0.5))])\n",
    "tensor_x = torch.stack([torch.Tensor(i) for i in X_train]) # transform to torch tensors\n",
    "tensor_y = torch.from_numpy(Y_train)\n",
    "trainset = utils.TensorDataset(tensor_x,tensor_y) # create your datset\n",
    "trainloader = utils.DataLoader(trainset,  batch_size= 40)\n",
    "tensor_x_test = torch.stack([torch.Tensor(i) for i in X_test]) # transform to torch tensors\n",
    "tensor_y_test = torch.from_numpy(Y_test)\n",
    "testset = utils.TensorDataset(tensor_x_test,tensor_y_test) # create your datset\n",
    "testloader = utils.DataLoader(testset,  batch_size=40)\n",
    "device = torch.device(\"cpu\")\n",
    "classes = ('Positive', 'Negative')"
   ]
  },
  {
   "cell_type": "code",
   "execution_count": 18,
   "metadata": {},
   "outputs": [
    {
     "name": "stdout",
     "output_type": "stream",
     "text": [
      "torch.Size([40, 32, 32, 3])\n",
      "torch.Size([40, 3, 32, 32])\n",
      "3\n",
      "32\n",
      "32\n"
     ]
    },
    {
     "data": {
      "image/png": "[encoded data removed]",
      "text/plain": [
       "<Figure size 432x288 with 1 Axes>"
      ]
     },
     "metadata": {
      "needs_background": "light"
     },
     "output_type": "display_data"
    }
   ],
   "source": [
    "def imshow(img):\n",
    "    img = img / 2 + 0.5 # Unnormalize.\n",
    "    npimg = img.numpy()\n",
    "    plt.imshow(np.transpose(npimg, (1, 2, 0)))\n",
    "    plt.show()\n",
    "dataiter = iter(trainloader)\n",
    "images, labels = dataiter.next()\n",
    "print(images.size())\n",
    "images = images.permute(0, 3, 1, 2)\n",
    "print(images.size())\n",
    "temp = images.numpy()\n",
    "print(len(temp[0]))\n",
    "print(len(temp[0][0]))\n",
    "print(len(temp[0][0][0]))\n",
    "\n",
    "# Show images.\n",
    "rows = 1\n",
    "columns = 1\n",
    "fig=plt.figure()\n",
    "for i in range(1):\n",
    "    fig.add_subplot(rows, columns, i+1)\n",
    "    plt.title(classes[labels[i]])\n",
    "    img = images[i] / 2 + 0.5     # this is for unnormalize the image\n",
    "    img = torchvision.transforms.ToPILImage()(img)\n",
    "    plt.imshow(img)\n",
    "plt.show()"
   ]
  },
  {
   "cell_type": "markdown",
   "metadata": {},
   "source": [
    "# My Attempt"
   ]
  },
  {
   "cell_type": "code",
   "execution_count": 19,
   "metadata": {},
   "outputs": [
    {
     "data": {
      "text/plain": [
       "Net(\n",
       "  (conv1): Conv2d(3, 10, kernel_size=(3, 3), stride=(1, 1), padding=(1, 1))\n",
       "  (pool): MaxPool2d(kernel_size=2, stride=2, padding=0, dilation=1, ceil_mode=False)\n",
       "  (conv2): Conv2d(10, 20, kernel_size=(3, 3), stride=(1, 1), padding=(1, 1))\n",
       "  (fc1): Linear(in_features=1280, out_features=100, bias=True)\n",
       "  (fc2): Linear(in_features=100, out_features=2, bias=True)\n",
       ")"
      ]
     },
     "execution_count": 19,
     "metadata": {},
     "output_type": "execute_result"
    }
   ],
   "source": [
    "num_classes = 2\n",
    "class Net(nn.Module):\n",
    "    def __init__(self):\n",
    "        super(Net, self).__init__()\n",
    "        self.conv1 = nn.Conv2d(3, 10, 3, padding=1)\n",
    "        self.pool = nn.MaxPool2d(2, 2)\n",
    "        self.conv2 = nn.Conv2d(10, 20, 3, padding=1)\n",
    "        self.fc1 = nn.Linear(20 * 8 * 8, 100)\n",
    "        self.fc2 = nn.Linear(100, num_classes)\n",
    "\n",
    "    def forward(self, x):\n",
    "        x = self.pool(F.relu(self.conv1(x)))\n",
    "        x = self.pool(F.relu(self.conv2(x)))\n",
    "        x = x.view(-1, 20 * 8 * 8)\n",
    "        x = F.relu(self.fc1(x))\n",
    "        x = self.fc2(x)\n",
    "        return x\n",
    "    \n",
    "net = Net()\n",
    "net.to(device)"
   ]
  },
  {
   "cell_type": "code",
   "execution_count": null,
   "metadata": {},
   "outputs": [
    {
     "name": "stdout",
     "output_type": "stream",
     "text": [
      "[epoch: 0, i:    14] avg mini-batch loss: 0.671\n",
      "[epoch: 0, i:    29] avg mini-batch loss: 0.661\n",
      "[epoch: 1, i:    14] avg mini-batch loss: 0.668\n",
      "[epoch: 1, i:    29] avg mini-batch loss: 0.660\n",
      "[epoch: 2, i:    14] avg mini-batch loss: 0.667\n",
      "[epoch: 2, i:    29] avg mini-batch loss: 0.658\n",
      "[epoch: 3, i:    14] avg mini-batch loss: 0.665\n",
      "[epoch: 3, i:    29] avg mini-batch loss: 0.655\n",
      "[epoch: 4, i:    14] avg mini-batch loss: 0.662\n",
      "[epoch: 4, i:    29] avg mini-batch loss: 0.649\n",
      "[epoch: 5, i:    14] avg mini-batch loss: 0.656\n",
      "[epoch: 5, i:    29] avg mini-batch loss: 0.642\n",
      "[epoch: 6, i:    14] avg mini-batch loss: 0.651\n",
      "[epoch: 6, i:    29] avg mini-batch loss: 0.634\n",
      "[epoch: 7, i:    14] avg mini-batch loss: 0.645\n",
      "[epoch: 7, i:    29] avg mini-batch loss: 0.628\n",
      "[epoch: 8, i:    14] avg mini-batch loss: 0.639\n",
      "[epoch: 8, i:    29] avg mini-batch loss: 0.624\n",
      "[epoch: 9, i:    14] avg mini-batch loss: 0.633\n",
      "[epoch: 9, i:    29] avg mini-batch loss: 0.619\n",
      "[epoch: 10, i:    14] avg mini-batch loss: 0.627\n",
      "[epoch: 10, i:    29] avg mini-batch loss: 0.616\n",
      "[epoch: 11, i:    14] avg mini-batch loss: 0.625\n",
      "[epoch: 11, i:    29] avg mini-batch loss: 0.614\n",
      "[epoch: 12, i:    14] avg mini-batch loss: 0.620\n",
      "[epoch: 12, i:    29] avg mini-batch loss: 0.612\n",
      "[epoch: 13, i:    14] avg mini-batch loss: 0.618\n",
      "[epoch: 13, i:    29] avg mini-batch loss: 0.610\n",
      "[epoch: 14, i:    14] avg mini-batch loss: 0.616\n",
      "[epoch: 14, i:    29] avg mini-batch loss: 0.609\n",
      "[epoch: 15, i:    14] avg mini-batch loss: 0.614\n",
      "[epoch: 15, i:    29] avg mini-batch loss: 0.608\n",
      "[epoch: 16, i:    14] avg mini-batch loss: 0.612\n",
      "[epoch: 16, i:    29] avg mini-batch loss: 0.606\n",
      "[epoch: 17, i:    14] avg mini-batch loss: 0.611\n",
      "[epoch: 17, i:    29] avg mini-batch loss: 0.605\n",
      "[epoch: 18, i:    14] avg mini-batch loss: 0.611\n",
      "[epoch: 18, i:    29] avg mini-batch loss: 0.604\n",
      "[epoch: 19, i:    14] avg mini-batch loss: 0.608\n",
      "[epoch: 19, i:    29] avg mini-batch loss: 0.602\n",
      "[epoch: 20, i:    14] avg mini-batch loss: 0.608\n",
      "[epoch: 20, i:    29] avg mini-batch loss: 0.601\n",
      "[epoch: 21, i:    14] avg mini-batch loss: 0.606\n",
      "[epoch: 21, i:    29] avg mini-batch loss: 0.600\n",
      "[epoch: 22, i:    14] avg mini-batch loss: 0.605\n",
      "[epoch: 22, i:    29] avg mini-batch loss: 0.599\n",
      "[epoch: 23, i:    14] avg mini-batch loss: 0.604\n",
      "[epoch: 23, i:    29] avg mini-batch loss: 0.598\n",
      "[epoch: 24, i:    14] avg mini-batch loss: 0.603\n",
      "[epoch: 24, i:    29] avg mini-batch loss: 0.596\n",
      "[epoch: 25, i:    14] avg mini-batch loss: 0.602\n",
      "[epoch: 25, i:    29] avg mini-batch loss: 0.595\n",
      "[epoch: 26, i:    14] avg mini-batch loss: 0.601\n",
      "[epoch: 26, i:    29] avg mini-batch loss: 0.594\n",
      "[epoch: 27, i:    14] avg mini-batch loss: 0.601\n",
      "[epoch: 27, i:    29] avg mini-batch loss: 0.593\n",
      "[epoch: 28, i:    14] avg mini-batch loss: 0.600\n",
      "[epoch: 28, i:    29] avg mini-batch loss: 0.592\n",
      "[epoch: 29, i:    14] avg mini-batch loss: 0.599\n",
      "[epoch: 29, i:    29] avg mini-batch loss: 0.592\n",
      "[epoch: 30, i:    14] avg mini-batch loss: 0.598\n",
      "[epoch: 30, i:    29] avg mini-batch loss: 0.590\n",
      "[epoch: 31, i:    14] avg mini-batch loss: 0.596\n",
      "[epoch: 31, i:    29] avg mini-batch loss: 0.589\n",
      "[epoch: 32, i:    14] avg mini-batch loss: 0.596\n",
      "[epoch: 32, i:    29] avg mini-batch loss: 0.588\n",
      "[epoch: 33, i:    14] avg mini-batch loss: 0.595\n",
      "[epoch: 33, i:    29] avg mini-batch loss: 0.586\n",
      "[epoch: 34, i:    14] avg mini-batch loss: 0.594\n",
      "[epoch: 34, i:    29] avg mini-batch loss: 0.586\n",
      "[epoch: 35, i:    14] avg mini-batch loss: 0.593\n",
      "[epoch: 35, i:    29] avg mini-batch loss: 0.585\n",
      "[epoch: 36, i:    14] avg mini-batch loss: 0.592\n",
      "[epoch: 36, i:    29] avg mini-batch loss: 0.584\n",
      "[epoch: 37, i:    14] avg mini-batch loss: 0.590\n",
      "[epoch: 37, i:    29] avg mini-batch loss: 0.582\n",
      "[epoch: 38, i:    14] avg mini-batch loss: 0.591\n",
      "[epoch: 38, i:    29] avg mini-batch loss: 0.582\n",
      "[epoch: 39, i:    14] avg mini-batch loss: 0.587\n",
      "[epoch: 39, i:    29] avg mini-batch loss: 0.580\n",
      "[epoch: 40, i:    14] avg mini-batch loss: 0.587\n",
      "[epoch: 40, i:    29] avg mini-batch loss: 0.579\n",
      "[epoch: 41, i:    14] avg mini-batch loss: 0.586\n",
      "[epoch: 41, i:    29] avg mini-batch loss: 0.577\n",
      "[epoch: 42, i:    14] avg mini-batch loss: 0.584\n",
      "[epoch: 42, i:    29] avg mini-batch loss: 0.577\n",
      "[epoch: 43, i:    14] avg mini-batch loss: 0.583\n",
      "[epoch: 43, i:    29] avg mini-batch loss: 0.576\n",
      "[epoch: 44, i:    14] avg mini-batch loss: 0.582\n",
      "[epoch: 44, i:    29] avg mini-batch loss: 0.574\n",
      "[epoch: 45, i:    14] avg mini-batch loss: 0.582\n",
      "[epoch: 45, i:    29] avg mini-batch loss: 0.573\n",
      "[epoch: 46, i:    14] avg mini-batch loss: 0.581\n",
      "[epoch: 46, i:    29] avg mini-batch loss: 0.572\n",
      "[epoch: 47, i:    14] avg mini-batch loss: 0.579\n"
     ]
    }
   ],
   "source": [
    "loss_func = nn.CrossEntropyLoss()\n",
    "opt = torch.optim.Adam(net.parameters(), lr=0.0005)\n",
    "#opt = optim.SGD(net.parameters(), lr=0.01, momentum=0.9)\n",
    "avg_losses = [] \n",
    "epochs = 1000 \n",
    "print_freq = 15 \n",
    "for epoch in range(epochs):\n",
    "    running_loss = 0.0\n",
    "    for i, data in enumerate(trainloader, 0):\n",
    "        inputs, labels = data\n",
    "        inputs = inputs.permute(0, 3, 1, 2)\n",
    "        inputs, labels = inputs.to(device), labels.to(device)\n",
    "        opt.zero_grad()\n",
    "        outputs = net(inputs)\n",
    "        loss = loss_func(outputs, labels)\n",
    "        loss.backward()\n",
    "        opt.step()\n",
    "        # Print statistics.\n",
    "        running_loss += loss.item()\n",
    "        if i % print_freq == print_freq - 1: # Print every several minibatches.\n",
    "            avg_loss = running_loss / print_freq\n",
    "            print('[epoch: {}, i: {:5d}] avg mini-batch loss: {:.3f}'.format(epoch, i, avg_loss))\n",
    "            avg_losses.append(avg_loss)\n",
    "            running_loss = 0.0\n",
    "print('Finished Training.')"
   ]
  },
  {
   "cell_type": "code",
   "execution_count": null,
   "metadata": {},
   "outputs": [],
   "source": [
    "plt.plot(avg_losses)\n",
    "plt.xlabel('mini-batch index / {}'.format(print_freq))\n",
    "plt.ylabel('avg. mini-batch loss')\n",
    "plt.show()"
   ]
  },
  {
   "cell_type": "code",
   "execution_count": null,
   "metadata": {},
   "outputs": [],
   "source": [
    "net.eval()\n",
    "correct = 0\n",
    "total = 0\n",
    "with torch.no_grad():\n",
    "    for data in testloader:\n",
    "        images, labels = data\n",
    "        images = images.permute(0, 3, 1, 2)\n",
    "        images = images.to(device)\n",
    "        labels = labels.to(device)\n",
    "        outputs = net(images)\n",
    "        _, predicted = torch.max(outputs.data, 1)\n",
    "        total += labels.size(0)\n",
    "        correct += (predicted == labels).sum().item()\n",
    "print(total)\n",
    "print('Accuracy of the network on the 40 test images: %d %%' % (100 * correct / total))"
   ]
  },
  {
   "cell_type": "code",
   "execution_count": null,
   "metadata": {},
   "outputs": [],
   "source": [
    "# Get test accuracy for each class.\n",
    "class_correct = list(0. for i in range(10))\n",
    "class_total = list(0. for i in range(10))\n",
    "with torch.no_grad():\n",
    "    for data in testloader:\n",
    "        images, labels = data\n",
    "        images = images.permute(0, 3, 1, 2)\n",
    "        images, labels = images.to(device), labels.to(device)\n",
    "        outputs = net(images)\n",
    "        _, predicted = torch.max(outputs, 1)\n",
    "        c = (predicted == labels).squeeze()\n",
    "        for i in range(40):\n",
    "            label = labels[i]\n",
    "            class_correct[label] += c[i].item()\n",
    "            class_total[label] += 1\n",
    "for i in range(2):\n",
    "    print('Accuracy of %5s : %2d %%' % (classes[i], 100 * class_correct[i] / class_total[i]))"
   ]
  },
  {
   "cell_type": "code",
   "execution_count": null,
   "metadata": {},
   "outputs": [],
   "source": [
    "transform = transforms.Compose(\n",
    " [transforms.ToTensor(),\n",
    " transforms.Normalize((0.5, 0.5, 0.5), (0.5, 0.5, 0.5))])\n",
    "tensor_x = torch.stack([torch.Tensor(i) for i in X_train]) # transform to torch tensors\n",
    "tensor_y = torch.from_numpy(Y_train)\n",
    "trainset = utils.TensorDataset(tensor_x,tensor_y) # create your datset\n",
    "trainloader = utils.DataLoader(trainset,  batch_size= 40)\n",
    "tensor_x_test = torch.stack([torch.Tensor(i) for i in X_test]) # transform to torch tensors\n",
    "tensor_y_test = torch.from_numpy(Y_test)\n",
    "testset = utils.TensorDataset(tensor_x_test,tensor_y_test) # create your datset\n",
    "testloader = utils.DataLoader(testset,  batch_size=40)\n",
    "device = torch.device(\"cpu\")\n",
    "classes = ('Positive', 'Negative')"
   ]
  },
  {
   "cell_type": "code",
   "execution_count": null,
   "metadata": {},
   "outputs": [],
   "source": [
    "num_classes = 2\n",
    "class Net(nn.Module):\n",
    "    def __init__(self):\n",
    "        super(Net, self).__init__()\n",
    "        self.conv1 = nn.Conv2d(3, 10, 3, padding=1)\n",
    "        self.pool = nn.MaxPool2d(2, 2)\n",
    "        self.conv2 = nn.Conv2d(10, 20, 3, padding=1)\n",
    "        self.fc1 = nn.Linear(20 * 8 * 8, 100)\n",
    "        self.fc2 = nn.Linear(100, num_classes)\n",
    "\n",
    "    def forward(self, x):\n",
    "        x = self.pool(F.relu(self.conv1(x)))\n",
    "        x = self.pool(F.relu(self.conv2(x)))\n",
    "        x = x.view(-1, 20 * 8 * 8)\n",
    "        x = F.relu(self.fc1(x))\n",
    "        x = self.fc2(x)\n",
    "        return x\n",
    "    \n",
    "net = Net()\n",
    "net.to(device)\n",
    "\n",
    "loss_func = nn.CrossEntropyLoss()\n",
    "\n",
    "opt = optim.Adadelta(net.parameters(), lr=0.5, rho=0.9, eps=1e-06, weight_decay=0)\n",
    "avg_losses = [] \n",
    "epochs = 500 \n",
    "print_freq = 15 \n",
    "for epoch in range(epochs):\n",
    "    running_loss = 0.0 \n",
    "    for i, data in enumerate(trainloader, 0):\n",
    "        inputs, labels = data\n",
    "        inputs = inputs.permute(0, 3, 1, 2)\n",
    "        inputs, labels = inputs.to(device), labels.to(device)\n",
    "        opt.zero_grad()\n",
    "        # Forward step.\n",
    "        outputs = net(inputs)\n",
    "        loss = loss_func(outputs, labels)\n",
    "        loss.backward()\n",
    "        opt.step()\n",
    "        # Print statistics.\n",
    "        running_loss += loss.item()\n",
    "        if i % print_freq == print_freq - 1: # Print every several minibatches.\n",
    "            avg_loss = running_loss / print_freq\n",
    "            print('[epoch: {}, i: {:5d}] avg mini-batch loss: {:.3f}'.format(epoch, i, avg_loss))\n",
    "            avg_losses.append(avg_loss)\n",
    "            running_loss = 0.0\n",
    "print('Finished Training.')"
   ]
  },
  {
   "cell_type": "code",
   "execution_count": null,
   "metadata": {},
   "outputs": [],
   "source": [
    "plt.plot(avg_losses)\n",
    "plt.xlabel('mini-batch index / {}'.format(print_freq))\n",
    "plt.ylabel('avg. mini-batch loss')\n",
    "plt.show()"
   ]
  },
  {
   "cell_type": "code",
   "execution_count": null,
   "metadata": {},
   "outputs": [],
   "source": [
    "net.eval()\n",
    "correct = 0\n",
    "total = 0\n",
    "with torch.no_grad():\n",
    "    for data in testloader:\n",
    "        images, labels = data\n",
    "        images = images.permute(0, 3, 1, 2)\n",
    "        images = images.to(device)\n",
    "        labels = labels.to(device)\n",
    "        outputs = net(images)\n",
    "        _, predicted = torch.max(outputs.data, 1)\n",
    "        total += labels.size(0)\n",
    "        correct += (predicted == labels).sum().item()\n",
    "print(total)\n",
    "print('Accuracy of the network on the 40 test images: %d %%' % (100 * correct / total))"
   ]
  },
  {
   "cell_type": "code",
   "execution_count": null,
   "metadata": {},
   "outputs": [],
   "source": [
    "# Get test accuracy for each class.\n",
    "class_correct = list(0. for i in range(10))\n",
    "class_total = list(0. for i in range(10))\n",
    "with torch.no_grad():\n",
    "    for data in testloader:\n",
    "        images, labels = data\n",
    "        images = images.permute(0, 3, 1, 2)\n",
    "        images, labels = images.to(device), labels.to(device)\n",
    "        outputs = net(images)\n",
    "        _, predicted = torch.max(outputs, 1)\n",
    "        c = (predicted == labels).squeeze()\n",
    "        for i in range(40):\n",
    "            label = labels[i]\n",
    "            class_correct[label] += c[i].item()\n",
    "            class_total[label] += 1\n",
    "for i in range(2):\n",
    "    print('Accuracy of %5s : %2d %%' % (classes[i], 100 * class_correct[i] / class_total[i]))"
   ]
  },
  {
   "cell_type": "markdown",
   "metadata": {},
   "source": [
    "# LeNET"
   ]
  },
  {
   "cell_type": "code",
   "execution_count": null,
   "metadata": {},
   "outputs": [],
   "source": [
    "transform = transforms.Compose(\n",
    " [transforms.ToTensor(),\n",
    " transforms.Normalize((0.5, 0.5, 0.5), (0.5, 0.5, 0.5))])\n",
    "tensor_x = torch.stack([torch.Tensor(i) for i in X_train]) # transform to torch tensors\n",
    "tensor_y = torch.from_numpy(Y_train)\n",
    "trainset = utils.TensorDataset(tensor_x,tensor_y) # create your datset\n",
    "trainloader = utils.DataLoader(trainset,  batch_size= 40)\n",
    "tensor_x_test = torch.stack([torch.Tensor(i) for i in X_test]) # transform to torch tensors\n",
    "tensor_y_test = torch.from_numpy(Y_test)\n",
    "testset = utils.TensorDataset(tensor_x_test,tensor_y_test) # create your datset\n",
    "testloader = utils.DataLoader(testset,  batch_size=40)\n",
    "device = torch.device(\"cpu\")\n",
    "classes = ('Positive', 'Negative')"
   ]
  },
  {
   "cell_type": "code",
   "execution_count": null,
   "metadata": {},
   "outputs": [],
   "source": [
    "num_classes = 2\n",
    "\n",
    "class Net(nn.Module):\n",
    "    def __init__(self):\n",
    "        super(Net, self).__init__()\n",
    "        # input channel = 3, output channel = 6, kernel_size = 5\n",
    "        # input size = (32, 32), output size = (28, 28)\n",
    "        self.conv1 = nn.Conv2d(3, 6, 5)\n",
    "        # input channel = 6, output channel = 16, kernel_size = 5\n",
    "        # input size = (14, 14), output size = (10, 10)\n",
    "        self.conv2 = nn.Conv2d(6, 16, 5)\n",
    "        # input dim = 16*5*5, output dim = 120\n",
    "        self.fc1 = nn.Linear(16 * 5 * 5, 120)\n",
    "        # input dim = 120, output dim = 40\n",
    "        self.fc2 = nn.Linear(120, 40)\n",
    "        # input dim = 40, output dim = 2\n",
    "        self.fc3 = nn.Linear(40, num_classes)\n",
    "\n",
    "    def forward(self, x):\n",
    "        # pool size = 2\n",
    "        # input size = (28, 28), output size = (14, 14), output channel = 6\n",
    "        x = F.max_pool2d(F.relu(self.conv1(x)), 2)\n",
    "        # pool size = 2\n",
    "        # input size = (10, 10), output size = (5, 5), output channel = 16\n",
    "        x = F.max_pool2d(F.relu(self.conv2(x)), 2)\n",
    "        # flatten as one dimension\n",
    "        x = x.view(x.shape[0], -1)\n",
    "        # input dim = 16*5*5, output dim = 120\n",
    "        x = F.relu(self.fc1(x))\n",
    "        # input dim = 120, output dim = 40\n",
    "        x = F.relu(self.fc2(x))\n",
    "        # input dim = 40, output dim = 2\n",
    "        x = self.fc3(x)\n",
    "        return x\n",
    "    \n",
    "net = Net().to(device)"
   ]
  },
  {
   "cell_type": "code",
   "execution_count": null,
   "metadata": {},
   "outputs": [],
   "source": [
    "loss_func = nn.CrossEntropyLoss()\n",
    "# We use stochastic gradient descent (SGD) as optimizer.\n",
    "opt = torch.optim.Adam(net.parameters(), lr=0.0005)\n",
    "avg_losses = [] # Avg. losses.\n",
    "epochs = 1000 # Total epochs.\n",
    "print_freq = 15 # Print frequency.\n",
    "for epoch in range(epochs): # Loop over the dataset multiple times.\n",
    "    running_loss = 0.0 # Initialize running loss.\n",
    "    for i, data in enumerate(trainloader, 0):\n",
    "        # Get the inputs.\n",
    "        inputs, labels = data\n",
    "        inputs = inputs.permute(0, 3, 1, 2)\n",
    "        # Move the inputs to the specified device.\n",
    "        inputs, labels = inputs.to(device), labels.to(device)\n",
    "\n",
    "        # Zero the parameter gradients.\n",
    "        opt.zero_grad()\n",
    "        # Forward step.\n",
    "        outputs = net(inputs)\n",
    "        #print(outputs)\n",
    "        #print(labels)\n",
    "        loss = loss_func(outputs, labels)\n",
    "\n",
    "        # Backward step.\n",
    "        loss.backward()\n",
    "\n",
    "        # Optimization step (update the parameters).\n",
    "        opt.step()\n",
    "        # Print statistics.\n",
    "        running_loss += loss.item()\n",
    "        if i % print_freq == print_freq - 1: # Print every several minibatches.\n",
    "            avg_loss = running_loss / print_freq\n",
    "            print('[epoch: {}, i: {:5d}] avg mini-batch loss: {:.3f}'.format(epoch, i, avg_loss))\n",
    "            avg_losses.append(avg_loss)\n",
    "            running_loss = 0.0\n",
    "print('Finished Training.')"
   ]
  },
  {
   "cell_type": "code",
   "execution_count": null,
   "metadata": {},
   "outputs": [],
   "source": [
    "plt.plot(avg_losses)\n",
    "plt.xlabel('mini-batch index / {}'.format(print_freq))\n",
    "plt.ylabel('avg. mini-batch loss')\n",
    "plt.show()"
   ]
  },
  {
   "cell_type": "code",
   "execution_count": null,
   "metadata": {},
   "outputs": [],
   "source": [
    "net.eval()\n",
    "correct = 0\n",
    "total = 0\n",
    "with torch.no_grad():\n",
    "    for data in testloader:\n",
    "        images, labels = data\n",
    "        images = images.permute(0, 3, 1, 2)\n",
    "        images = images.to(device)\n",
    "        labels = labels.to(device)\n",
    "        outputs = net(images)\n",
    "        _, predicted = torch.max(outputs.data, 1)\n",
    "        total += labels.size(0)\n",
    "        correct += (predicted == labels).sum().item()\n",
    "print(total)\n",
    "print('Accuracy of the network on the 40 test images: %d %%' % (100 * correct / total))"
   ]
  },
  {
   "cell_type": "code",
   "execution_count": null,
   "metadata": {},
   "outputs": [],
   "source": [
    "# Get test accuracy for each class.\n",
    "class_correct = list(0. for i in range(10))\n",
    "class_total = list(0. for i in range(10))\n",
    "with torch.no_grad():\n",
    "    for data in testloader:\n",
    "        images, labels = data\n",
    "        images = images.permute(0, 3, 1, 2)\n",
    "        images, labels = images.to(device), labels.to(device)\n",
    "        outputs = net(images)\n",
    "        _, predicted = torch.max(outputs, 1)\n",
    "        c = (predicted == labels).squeeze()\n",
    "        for i in range(40):\n",
    "            label = labels[i]\n",
    "            class_correct[label] += c[i].item()\n",
    "            class_total[label] += 1\n",
    "for i in range(2):\n",
    "    print('Accuracy of %5s : %2d %%' % (classes[i], 100 * class_correct[i] / class_total[i]))"
   ]
  },
  {
   "cell_type": "code",
   "execution_count": null,
   "metadata": {},
   "outputs": [],
   "source": [
    "transform = transforms.Compose(\n",
    " [transforms.ToTensor(),\n",
    " transforms.Normalize((0.5, 0.5, 0.5), (0.5, 0.5, 0.5))])\n",
    "tensor_x = torch.stack([torch.Tensor(i) for i in X_train]) # transform to torch tensors\n",
    "tensor_y = torch.from_numpy(Y_train)\n",
    "trainset = utils.TensorDataset(tensor_x,tensor_y) # create your datset\n",
    "trainloader = utils.DataLoader(trainset,  batch_size= 40)\n",
    "tensor_x_test = torch.stack([torch.Tensor(i) for i in X_test]) # transform to torch tensors\n",
    "tensor_y_test = torch.from_numpy(Y_test)\n",
    "testset = utils.TensorDataset(tensor_x_test,tensor_y_test) # create your datset\n",
    "testloader = utils.DataLoader(testset,  batch_size=40)\n",
    "device = torch.device(\"cpu\")\n",
    "classes = ('Positive', 'Negative')"
   ]
  },
  {
   "cell_type": "code",
   "execution_count": null,
   "metadata": {},
   "outputs": [],
   "source": [
    "num_classes = 2\n",
    "\n",
    "class Net(nn.Module):\n",
    "    def __init__(self):\n",
    "        super(Net, self).__init__()\n",
    "        # input channel = 3, output channel = 6, kernel_size = 5\n",
    "        # input size = (32, 32), output size = (28, 28)\n",
    "        self.conv1 = nn.Conv2d(3, 6, 5)\n",
    "        # input channel = 6, output channel = 16, kernel_size = 5\n",
    "        # input size = (14, 14), output size = (10, 10)\n",
    "        self.conv2 = nn.Conv2d(6, 16, 5)\n",
    "        # input dim = 16*5*5, output dim = 120\n",
    "        self.fc1 = nn.Linear(16 * 5 * 5, 120)\n",
    "        # input dim = 120, output dim = 40\n",
    "        self.fc2 = nn.Linear(120, 40)\n",
    "        # input dim = 40, output dim = 2\n",
    "        self.fc3 = nn.Linear(40, num_classes)\n",
    "\n",
    "    def forward(self, x):\n",
    "        # pool size = 2\n",
    "        # input size = (28, 28), output size = (14, 14), output channel = 6\n",
    "        x = F.max_pool2d(F.relu(self.conv1(x)), 2)\n",
    "        # pool size = 2\n",
    "        # input size = (10, 10), output size = (5, 5), output channel = 16\n",
    "        x = F.max_pool2d(F.relu(self.conv2(x)), 2)\n",
    "        # flatten as one dimension\n",
    "        x = x.view(x.shape[0], -1)\n",
    "        # input dim = 16*5*5, output dim = 120\n",
    "        x = F.relu(self.fc1(x))\n",
    "        # input dim = 120, output dim = 40\n",
    "        x = F.relu(self.fc2(x))\n",
    "        # input dim = 40, output dim = 2\n",
    "        x = self.fc3(x)\n",
    "        return x\n",
    "    \n",
    "net = Net().to(device)\n",
    "\n",
    "loss_func = nn.CrossEntropyLoss()\n",
    "# We use stochastic gradient descent (SGD) as optimizer.\n",
    "#opt = torch.optim.Adam(net.parameters(), lr=0.001)\n",
    "opt = optim.Adadelta(net.parameters(), lr=1.0, rho=0.9, eps=1e-06, weight_decay=0)\n",
    "avg_losses = [] # Avg. losses.\n",
    "epochs = 500 # Total epochs.\n",
    "print_freq = 15 # Print frequency.\n",
    "for epoch in range(epochs): # Loop over the dataset multiple times.\n",
    "    running_loss = 0.0 # Initialize running loss.\n",
    "    for i, data in enumerate(trainloader, 0):\n",
    "        # Get the inputs.\n",
    "        inputs, labels = data\n",
    "        inputs = inputs.permute(0, 3, 1, 2)\n",
    "        # Move the inputs to the specified device.\n",
    "        inputs, labels = inputs.to(device), labels.to(device)\n",
    "\n",
    "        # Zero the parameter gradients.\n",
    "        opt.zero_grad()\n",
    "        # Forward step.\n",
    "        outputs = net(inputs)\n",
    "        loss = loss_func(outputs, labels)\n",
    "\n",
    "        # Backward step.\n",
    "        loss.backward()\n",
    "\n",
    "        # Optimization step (update the parameters).\n",
    "        opt.step()\n",
    "        # Print statistics.\n",
    "        running_loss += loss.item()\n",
    "        if i % print_freq == print_freq - 1: # Print every several minibatches.\n",
    "            avg_loss = running_loss / print_freq\n",
    "            print('[epoch: {}, i: {:5d}] avg mini-batch loss: {:.3f}'.format(epoch, i, avg_loss))\n",
    "            avg_losses.append(avg_loss)\n",
    "            running_loss = 0.0\n",
    "print('Finished Training.')"
   ]
  },
  {
   "cell_type": "code",
   "execution_count": null,
   "metadata": {},
   "outputs": [],
   "source": [
    "plt.plot(avg_losses)\n",
    "plt.xlabel('mini-batch index / {}'.format(print_freq))\n",
    "plt.ylabel('avg. mini-batch loss')\n",
    "plt.show()"
   ]
  },
  {
   "cell_type": "code",
   "execution_count": null,
   "metadata": {},
   "outputs": [],
   "source": [
    "net.eval()\n",
    "correct = 0\n",
    "total = 0\n",
    "with torch.no_grad():\n",
    "    for data in testloader:\n",
    "        images, labels = data\n",
    "        images = images.permute(0, 3, 1, 2)\n",
    "        images = images.to(device)\n",
    "        labels = labels.to(device)\n",
    "        outputs = net(images)\n",
    "        _, predicted = torch.max(outputs.data, 1)\n",
    "        total += labels.size(0)\n",
    "        correct += (predicted == labels).sum().item()\n",
    "print(total)\n",
    "print('Accuracy of the network on the 40 test images: %d %%' % (100 * correct / total))"
   ]
  },
  {
   "cell_type": "code",
   "execution_count": null,
   "metadata": {},
   "outputs": [],
   "source": [
    "# Get test accuracy for each class.\n",
    "class_correct = list(0. for i in range(10))\n",
    "class_total = list(0. for i in range(10))\n",
    "with torch.no_grad():\n",
    "    for data in testloader:\n",
    "        images, labels = data\n",
    "        images = images.permute(0, 3, 1, 2)\n",
    "        images, labels = images.to(device), labels.to(device)\n",
    "        outputs = net(images)\n",
    "        _, predicted = torch.max(outputs, 1)\n",
    "        c = (predicted == labels).squeeze()\n",
    "        for i in range(40):\n",
    "            label = labels[i]\n",
    "            class_correct[label] += c[i].item()\n",
    "            class_total[label] += 1\n",
    "for i in range(2):\n",
    "    print('Accuracy of %5s : %2d %%' % (classes[i], 100 * class_correct[i] / class_total[i]))"
   ]
  },
  {
   "cell_type": "markdown",
   "metadata": {},
   "source": [
    "# My Second Approach"
   ]
  },
  {
   "cell_type": "code",
   "execution_count": null,
   "metadata": {},
   "outputs": [],
   "source": [
    "transform = transforms.Compose(\n",
    " [transforms.ToTensor(),\n",
    " transforms.Normalize((0.5, 0.5, 0.5), (0.5, 0.5, 0.5))])\n",
    "tensor_x = torch.stack([torch.Tensor(i) for i in X_train]) # transform to torch tensors\n",
    "tensor_y = torch.from_numpy(Y_train)\n",
    "trainset = utils.TensorDataset(tensor_x,tensor_y) # create your datset\n",
    "trainloader = utils.DataLoader(trainset,  batch_size= 40)\n",
    "tensor_x_test = torch.stack([torch.Tensor(i) for i in X_test]) # transform to torch tensors\n",
    "tensor_y_test = torch.from_numpy(Y_test)\n",
    "testset = utils.TensorDataset(tensor_x_test,tensor_y_test) # create your datset\n",
    "testloader = utils.DataLoader(testset,  batch_size=40)\n",
    "device = torch.device(\"cpu\")\n",
    "classes = ('Positive', 'Negative')"
   ]
  },
  {
   "cell_type": "code",
   "execution_count": null,
   "metadata": {},
   "outputs": [],
   "source": [
    "class Net(nn.Module):\n",
    "\n",
    "    def __init__(self):\n",
    "        super(Net, self).__init__()\n",
    "        # 1 input image channel, 6 output channels, 3x3 square convolution\n",
    "        # kernel\n",
    "        self.conv1 = nn.Conv2d(3, 6, 3)\n",
    "        self.conv2 = nn.Conv2d(6, 16, 3)\n",
    "        # an affine operation: y = Wx + b\n",
    "        self.fc1 = nn.Linear(16 * 6 * 6, 120)  # 6*6 from image dimension\n",
    "        self.fc2 = nn.Linear(120, 40)\n",
    "        self.fc3 = nn.Linear(40, 2)\n",
    "\n",
    "    def forward(self, x):\n",
    "        # Max pooling over a (2, 2) window\n",
    "        x = F.max_pool2d(F.relu(self.conv1(x)), (2, 2))\n",
    "        # If the size is a square you can only specify a single number\n",
    "        x = F.max_pool2d(F.relu(self.conv2(x)), 2)\n",
    "        x = x.view(-1, self.num_flat_features(x))\n",
    "        x = F.relu(self.fc1(x))\n",
    "        x = F.relu(self.fc2(x))\n",
    "        x = self.fc3(x)\n",
    "        return x\n",
    "\n",
    "    def num_flat_features(self, x):\n",
    "        size = x.size()[1:]  # all dimensions except the batch dimension\n",
    "        num_features = 1\n",
    "        for s in size:\n",
    "            num_features *= s\n",
    "        return num_features\n",
    "\n",
    "\n",
    "net = Net()\n",
    "net.to(device)"
   ]
  },
  {
   "cell_type": "code",
   "execution_count": null,
   "metadata": {},
   "outputs": [],
   "source": [
    "loss_func = nn.CrossEntropyLoss()\n",
    "# We use stochastic gradient descent (SGD) as optimizer.\n",
    "opt = torch.optim.Adam(net.parameters(), lr=0.0005)\n",
    "#opt = optim.SGD(net.parameters(), lr=0.01, momentum=0.9)\n",
    "avg_losses = [] # Avg. losses.\n",
    "epochs = 1000 # Total epochs.\n",
    "print_freq = 15 # Print frequency.\n",
    "for epoch in range(epochs): # Loop over the dataset multiple times.\n",
    "    running_loss = 0.0 # Initialize running loss.\n",
    "    for i, data in enumerate(trainloader, 0):\n",
    "        # Get the inputs.\n",
    "        inputs, labels = data\n",
    "        inputs = inputs.permute(0, 3, 1, 2)\n",
    "        # Move the inputs to the specified device.\n",
    "        inputs, labels = inputs.to(device), labels.to(device)\n",
    "\n",
    "        # Zero the parameter gradients.\n",
    "        opt.zero_grad()\n",
    "        # Forward step.\n",
    "        outputs = net(inputs)\n",
    "        #print(outputs)\n",
    "        #print(labels)\n",
    "        loss = loss_func(outputs, labels)\n",
    "\n",
    "        # Backward step.\n",
    "        loss.backward()\n",
    "\n",
    "        # Optimization step (update the parameters).\n",
    "        opt.step()\n",
    "        # Print statistics.\n",
    "        running_loss += loss.item()\n",
    "        if i % print_freq == print_freq - 1: # Print every several minibatches.\n",
    "            avg_loss = running_loss / print_freq\n",
    "            print('[epoch: {}, i: {:5d}] avg mini-batch loss: {:.3f}'.format(epoch, i, avg_loss))\n",
    "            avg_losses.append(avg_loss)\n",
    "            running_loss = 0.0\n",
    "print('Finished Training.')"
   ]
  },
  {
   "cell_type": "code",
   "execution_count": null,
   "metadata": {},
   "outputs": [],
   "source": [
    "plt.plot(avg_losses)\n",
    "plt.xlabel('mini-batch index / {}'.format(print_freq))\n",
    "plt.ylabel('avg. mini-batch loss')\n",
    "plt.show()"
   ]
  },
  {
   "cell_type": "code",
   "execution_count": null,
   "metadata": {},
   "outputs": [],
   "source": [
    "net.eval()\n",
    "correct = 0\n",
    "total = 0\n",
    "with torch.no_grad():\n",
    "    for data in testloader:\n",
    "        images, labels = data\n",
    "        images = images.permute(0, 3, 1, 2)\n",
    "        images = images.to(device)\n",
    "        labels = labels.to(device)\n",
    "        outputs = net(images)\n",
    "        _, predicted = torch.max(outputs.data, 1)\n",
    "        total += labels.size(0)\n",
    "        correct += (predicted == labels).sum().item()\n",
    "print(total)\n",
    "print('Accuracy of the network on the 40 test images: %d %%' % (100 * correct / total))"
   ]
  },
  {
   "cell_type": "code",
   "execution_count": null,
   "metadata": {},
   "outputs": [],
   "source": [
    "# Get test accuracy for each class.\n",
    "class_correct = list(0. for i in range(10))\n",
    "class_total = list(0. for i in range(10))\n",
    "with torch.no_grad():\n",
    "    for data in testloader:\n",
    "        images, labels = data\n",
    "        images = images.permute(0, 3, 1, 2)\n",
    "        images, labels = images.to(device), labels.to(device)\n",
    "        outputs = net(images)\n",
    "        _, predicted = torch.max(outputs, 1)\n",
    "        c = (predicted == labels).squeeze()\n",
    "        for i in range(40):\n",
    "            label = labels[i]\n",
    "            class_correct[label] += c[i].item()\n",
    "            class_total[label] += 1\n",
    "for i in range(2):\n",
    "    print('Accuracy of %5s : %2d %%' % (classes[i], 100 * class_correct[i] / class_total[i]))"
   ]
  },
  {
   "cell_type": "code",
   "execution_count": null,
   "metadata": {},
   "outputs": [],
   "source": [
    "transform = transforms.Compose(\n",
    " [transforms.ToTensor(),\n",
    " transforms.Normalize((0.5, 0.5, 0.5), (0.5, 0.5, 0.5))])\n",
    "tensor_x = torch.stack([torch.Tensor(i) for i in X_train]) # transform to torch tensors\n",
    "tensor_y = torch.from_numpy(Y_train)\n",
    "trainset = utils.TensorDataset(tensor_x,tensor_y) # create your datset\n",
    "trainloader = utils.DataLoader(trainset,  batch_size= 40)\n",
    "tensor_x_test = torch.stack([torch.Tensor(i) for i in X_test]) # transform to torch tensors\n",
    "tensor_y_test = torch.from_numpy(Y_test)\n",
    "testset = utils.TensorDataset(tensor_x_test,tensor_y_test) # create your datset\n",
    "testloader = utils.DataLoader(testset,  batch_size=40)\n",
    "device = torch.device(\"cpu\")\n",
    "classes = ('Positive', 'Negative')"
   ]
  },
  {
   "cell_type": "code",
   "execution_count": null,
   "metadata": {},
   "outputs": [],
   "source": [
    "class Net(nn.Module):\n",
    "\n",
    "    def __init__(self):\n",
    "        super(Net, self).__init__()\n",
    "        # 3 input image channel, 6 output channels, 3x3 square convolution\n",
    "        # kernel\n",
    "        self.conv1 = nn.Conv2d(3, 6, 3)\n",
    "        self.conv2 = nn.Conv2d(6, 16, 3)\n",
    "        # an affine operation: y = Wx + b\n",
    "        self.fc1 = nn.Linear(16 * 6 * 6, 120)  # 6*6 from image dimension\n",
    "        self.fc2 = nn.Linear(120, 40)\n",
    "        self.fc3 = nn.Linear(40, 2)\n",
    "\n",
    "    def forward(self, x):\n",
    "        # Max pooling over a (2, 2) window\n",
    "        x = F.max_pool2d(F.relu(self.conv1(x)), (2, 2))\n",
    "        x = F.max_pool2d(F.relu(self.conv2(x)), 2)\n",
    "        x = x.view(-1, self.num_flat_features(x))\n",
    "        x = F.relu(self.fc1(x))\n",
    "        x = F.relu(self.fc2(x))\n",
    "        x = self.fc3(x)\n",
    "        return x\n",
    "\n",
    "    def num_flat_features(self, x):\n",
    "        size = x.size()[1:]  # all dimensions except the batch dimension\n",
    "        num_features = 1\n",
    "        for s in size:\n",
    "            num_features *= s\n",
    "        return num_features\n",
    "\n",
    "\n",
    "net = Net()\n",
    "net.to(device)"
   ]
  },
  {
   "cell_type": "code",
   "execution_count": null,
   "metadata": {},
   "outputs": [],
   "source": [
    "loss_func = nn.CrossEntropyLoss()\n",
    "# We use stochastic gradient descent (SGD) as optimizer.\n",
    "#opt = torch.optim.Adam(net.parameters(), lr=0.001)\n",
    "opt = optim.Adadelta(net.parameters(), lr=0.5, rho=0.9, eps=1e-06, weight_decay=0)\n",
    "avg_losses = [] # Avg. losses.\n",
    "epochs = 500 # Total epochs.\n",
    "print_freq = 15 # Print frequency.\n",
    "for epoch in range(epochs): # Loop over the dataset multiple times.\n",
    "    running_loss = 0.0 # Initialize running loss.\n",
    "    for i, data in enumerate(trainloader, 0):\n",
    "        # Get the inputs.\n",
    "        inputs, labels = data\n",
    "        inputs = inputs.permute(0, 3, 1, 2)\n",
    "        # Move the inputs to the specified device.\n",
    "        inputs, labels = inputs.to(device), labels.to(device)\n",
    "\n",
    "        # Zero the parameter gradients.\n",
    "        opt.zero_grad()\n",
    "        # Forward step.\n",
    "        outputs = net(inputs)\n",
    "        loss = loss_func(outputs, labels)\n",
    "\n",
    "        # Backward step.\n",
    "        loss.backward()\n",
    "\n",
    "        # Optimization step (update the parameters).\n",
    "        opt.step()\n",
    "        # Print statistics.\n",
    "        running_loss += loss.item()\n",
    "        if i % print_freq == print_freq - 1: # Print every several minibatches.\n",
    "            avg_loss = running_loss / print_freq\n",
    "            print('[epoch: {}, i: {:5d}] avg mini-batch loss: {:.3f}'.format(epoch, i, avg_loss))\n",
    "            avg_losses.append(avg_loss)\n",
    "            running_loss = 0.0\n",
    "print('Finished Training.')"
   ]
  },
  {
   "cell_type": "code",
   "execution_count": null,
   "metadata": {},
   "outputs": [],
   "source": [
    "plt.plot(avg_losses)\n",
    "plt.xlabel('mini-batch index / {}'.format(print_freq))\n",
    "plt.ylabel('avg. mini-batch loss')\n",
    "plt.show()"
   ]
  },
  {
   "cell_type": "code",
   "execution_count": null,
   "metadata": {},
   "outputs": [],
   "source": [
    "net.eval()\n",
    "correct = 0\n",
    "total = 0\n",
    "with torch.no_grad():\n",
    "    for data in testloader:\n",
    "        images, labels = data\n",
    "        images = images.permute(0, 3, 1, 2)\n",
    "        images = images.to(device)\n",
    "        labels = labels.to(device)\n",
    "        outputs = net(images)\n",
    "        _, predicted = torch.max(outputs.data, 1)\n",
    "        total += labels.size(0)\n",
    "        correct += (predicted == labels).sum().item()\n",
    "print(total)\n",
    "print('Accuracy of the network on the 40 test images: %d %%' % (100 * correct / total))"
   ]
  },
  {
   "cell_type": "code",
   "execution_count": null,
   "metadata": {},
   "outputs": [],
   "source": [
    "# Get test accuracy for each class.\n",
    "class_correct = list(0. for i in range(10))\n",
    "class_total = list(0. for i in range(10))\n",
    "with torch.no_grad():\n",
    "    for data in testloader:\n",
    "        images, labels = data\n",
    "        images = images.permute(0, 3, 1, 2)\n",
    "        images, labels = images.to(device), labels.to(device)\n",
    "        outputs = net(images)\n",
    "        _, predicted = torch.max(outputs, 1)\n",
    "        c = (predicted == labels).squeeze()\n",
    "        for i in range(40):\n",
    "            label = labels[i]\n",
    "            class_correct[label] += c[i].item()\n",
    "            class_total[label] += 1\n",
    "for i in range(2):\n",
    "    print('Accuracy of %5s : %2d %%' % (classes[i], 100 * class_correct[i] / class_total[i]))"
   ]
  },
  {
   "cell_type": "markdown",
   "metadata": {},
   "source": [
    "# Flatten ML"
   ]
  },
  {
   "cell_type": "code",
   "execution_count": null,
   "metadata": {},
   "outputs": [],
   "source": [
    "X_trainFlat = [x.flatten() for x in X_train]\n",
    "X_testFlat = [x.flatten() for x in X_test]"
   ]
  },
  {
   "cell_type": "code",
   "execution_count": null,
   "metadata": {},
   "outputs": [],
   "source": [
    "from sklearn.linear_model import LogisticRegression\n",
    "from sklearn.ensemble import RandomForestClassifier\n",
    "from sklearn.ensemble import AdaBoostClassifier\n",
    "from sklearn import linear_model\n",
    "from sklearn.tree import DecisionTreeClassifier\n",
    "\n",
    "cls = DecisionTreeClassifier(random_state=0)\n",
    "cls.fit(X_trainFlat, Y_train)\n",
    "#print(cls)\n",
    "pred = cls.predict(X_testFlat)\n",
    "pred = cls.predict(X_testFlat)\n",
    "correct = 0\n",
    "for x in range(len(pred)):\n",
    "    if pred[x] == Y_test[x]:\n",
    "        correct+=1\n",
    "percentage = correct/len(Y_test)\n",
    "print(\"Decision Tree accuracy: \" + str(percentage))\n",
    "print()\n",
    "\n",
    "cls = RandomForestClassifier()\n",
    "cls.fit(X_trainFlat, Y_train)\n",
    "#print(cls)\n",
    "pred = cls.predict(X_testFlat)\n",
    "pred = cls.predict(X_testFlat)\n",
    "correct = 0\n",
    "for x in range(len(pred)):\n",
    "    if pred[x] == Y_test[x]:\n",
    "        correct+=1\n",
    "percentage = correct/len(Y_test)\n",
    "print(\"Random Forest accuracy: \" + str(percentage))\n",
    "print()\n",
    "\n",
    "cls = AdaBoostClassifier()\n",
    "cls.fit(X_trainFlat, Y_train)\n",
    "#print(cls)\n",
    "pred = cls.predict(X_testFlat)\n",
    "pred = cls.predict(X_testFlat)\n",
    "correct = 0\n",
    "for x in range(len(pred)):\n",
    "    if pred[x] == Y_test[x]:\n",
    "        correct+=1\n",
    "percentage = correct/len(Y_test)\n",
    "print(\"Ada Boost accuracy: \" + str(percentage))\n",
    "print()\n",
    "\n",
    "cls = linear_model.SGDClassifier(max_iter=1000, tol=1e-3)\n",
    "cls.fit(X_trainFlat, Y_train)\n",
    "#print(cls)\n",
    "pred = cls.predict(X_testFlat)\n",
    "correct = 0\n",
    "for x in range(len(pred)):\n",
    "    if pred[x] == Y_test[x]:\n",
    "        correct+=1\n",
    "percentage = correct/len(Y_test)\n",
    "print(\"SGD Classifier accuracy: \" + str(percentage))\n",
    "print()\n",
    "\n",
    "cls = LogisticRegression()\n",
    "cls.fit(X_trainFlat, Y_train)\n",
    "#print(cls)\n",
    "pred = cls.predict(X_testFlat)\n",
    "correct = 0\n",
    "for x in range(len(pred)):\n",
    "    if pred[x] == Y_test[x]:\n",
    "        correct+=1\n",
    "percentage = correct/len(Y_test)\n",
    "print(\"Logistic Regression accuracy: \" + str(percentage))"
   ]
  },
  {
   "cell_type": "code",
   "execution_count": null,
   "metadata": {},
   "outputs": [],
   "source": [
    "X_train_vec = []\n",
    "for i in range(X_train.shape[0]):\n",
    "    flat = X_train[i,:,:,:].flatten()\n",
    "    arr = np.array2string(flat)\n",
    "    X_train_vec.append(arr)\n",
    "X_test_vec = []\n",
    "for i in range(X_test.shape[0]):\n",
    "    flat = X_test[i,:,:,:].flatten()\n",
    "    arr = np.array2string(flat)\n",
    "    X_test_vec.append(arr)"
   ]
  },
  {
   "cell_type": "code",
   "execution_count": null,
   "metadata": {},
   "outputs": [],
   "source": [
    "from sklearn.feature_extraction.text import TfidfVectorizer\n",
    "count_vect = TfidfVectorizer(ngram_range=(1,3))\n",
    "trainX = count_vect.fit_transform(X_train_vec)\n",
    "from sklearn import preprocessing\n",
    "le = preprocessing.LabelEncoder()\n",
    "le.fit(Y_train)\n",
    "target_labels = le.classes_\n",
    "trainy = le.transform(Y_train)"
   ]
  },
  {
   "cell_type": "code",
   "execution_count": null,
   "metadata": {},
   "outputs": [],
   "source": [
    "from sklearn.linear_model import LogisticRegression\n",
    "from sklearn.model_selection import GridSearchCV\n",
    "param_grid = {'C': [0.01, 0.1, 1, 5, 10, 25]}\n",
    "print(\"grid search start\")\n",
    "grid = GridSearchCV(LogisticRegression(random_state=0, solver='lbfgs',class_weight = 'balanced', max_iter=10000), param_grid, cv=5)\n",
    "print(\"done grid search\")\n",
    "grid.fit(trainX, trainy)\n",
    "print(\"Best cross-validation score: {:.2f}\".format(grid.best_score_))\n",
    "print(\"Best parameters: \", grid.best_params_)\n",
    "print(\"Best estimator: \", grid.best_estimator_)\n",
    "cls = grid.best_estimator_\n",
    "cls.fit(trainX, trainy)"
   ]
  },
  {
   "cell_type": "code",
   "execution_count": null,
   "metadata": {},
   "outputs": [],
   "source": [
    "import sklearn.metrics\n",
    "testX = count_vect.transform(X_test_vec)\n",
    "yp = cls.predict(testX)\n",
    "testy = le.transform(Y_test)\n",
    "acc = sklearn.metrics.accuracy_score(testy, yp)\n",
    "print(\"Accuracy for Test for the NLP method is \" + str(acc))"
   ]
  },
  {
   "cell_type": "code",
   "execution_count": null,
   "metadata": {},
   "outputs": [],
   "source": []
  }
 ],
 "metadata": {
  "kernelspec": {
   "display_name": "Python 3",
   "language": "python",
   "name": "python3"
  },
  "language_info": {
   "codemirror_mode": {
    "name": "ipython",
    "version": 3
   },
   "file_extension": ".py",
   "mimetype": "text/x-python",
   "name": "python",
   "nbconvert_exporter": "python",
   "pygments_lexer": "ipython3",
   "version": "3.6.8"
  }
 },
 "nbformat": 4,
 "nbformat_minor": 2
}
